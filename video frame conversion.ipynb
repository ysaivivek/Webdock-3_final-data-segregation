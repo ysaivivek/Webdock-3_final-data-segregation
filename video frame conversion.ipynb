{
 "cells": [
  {
   "cell_type": "code",
   "execution_count": 23,
   "metadata": {},
   "outputs": [],
   "source": [
    "import cv2\n",
    "import os\n",
    "\n",
    "#mandatory i/p and o/p folders\n",
    "pathToVideo = r\"D:\\D\\university of melbourne\\Internship\\Machine Learning\\Dataset_pile\\63N-W.mp4\"          #adress to .mp4 file\n",
    "OutputFolder = r\"E:\\ML Resources\\all pile frames\\ \"\n",
    "\n",
    "#naming convention\n",
    "x = pathToVideo.split(\".\")\n",
    "x2 = x[0].split(os.sep)\n",
    "#print (x2[-1])\n",
    "\n",
    "#conversion function\n",
    "vidcap = cv2.VideoCapture(pathToVideo)\n",
    "\n",
    "#function for frame conversion\n",
    "def getFrame(sec):\n",
    "    vidcap.set(cv2.CAP_PROP_POS_MSEC,sec*1000)\n",
    "    hasFrames,image = vidcap.read()\n",
    "    if hasFrames:  \n",
    "        cv2.imwrite(OutputFolder+\" \"+x2[-1]+\"-image \"+str(count)+\".jpg\", image)     # save frame as JPG file with name labeling\n",
    "    return hasFrames\n",
    "sec = 0\n",
    "frameRate = 1 #//it will capture image in each 0.5 second\n",
    "count=1\n",
    "success = getFrame(sec)\n",
    "while success:\n",
    "    count = count + 1\n",
    "    sec = sec + frameRate\n",
    "    sec = round(sec, 2)\n",
    "    success = getFrame(sec)\n",
    "    \n",
    "# Release all space and windows once done \n",
    "vidcap.release() \n",
    "cv2.destroyAllWindows() \n",
    "\n",
    "\n"
   ]
  },
  {
   "cell_type": "code",
   "execution_count": null,
   "metadata": {},
   "outputs": [],
   "source": []
  }
 ],
 "metadata": {
  "kernelspec": {
   "display_name": "Python 3",
   "language": "python",
   "name": "python3"
  },
  "language_info": {
   "codemirror_mode": {
    "name": "ipython",
    "version": 3
   },
   "file_extension": ".py",
   "mimetype": "text/x-python",
   "name": "python",
   "nbconvert_exporter": "python",
   "pygments_lexer": "ipython3",
   "version": "3.8.3"
  }
 },
 "nbformat": 4,
 "nbformat_minor": 4
}
